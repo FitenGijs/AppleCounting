{
 "cells": [
  {
   "cell_type": "code",
   "execution_count": null,
   "id": "3108650a",
   "metadata": {},
   "outputs": [],
   "source": [
    "#All imports\n",
    "from ultralytics import YOLO\n",
    "import numpy as np\n",
    "import torch"
   ]
  },
  {
   "cell_type": "code",
   "execution_count": null,
   "id": "f6dfc522",
   "metadata": {},
   "outputs": [],
   "source": [
    "#Image evaluation function\n",
    "\n",
    "def evaluate_picture(path_to_picture):\n",
    "    #define the model\n",
    "    model = YOLO('yolov8m-seg.pt')\n",
    "    \n",
    "    #Evaluate the picture on the model\n",
    "    res = model(path_to_picture, imgsz=800)\n",
    "    \n",
    "    #create list mask\n",
    "    mask_list = res[0].boxes.cls == 47\n",
    "\n",
    "    if ~np.any(np.array(mask_list)):\n",
    "        return (0,0,0,0)\n",
    "    \n",
    "    #extract bounding boxes and segments\n",
    "    if torch.eq(mask_list, torch.Tensor([True])):\n",
    "        all_boxes = np.array(res[0].boxes.xywh, dtype=object)\n",
    "        all_segments = np.array(res[0].masks.xy, dtype=object)\n",
    "    else:\n",
    "        all_boxes = np.array(res[0].boxes.xywh, dtype=object)[mask_list]\n",
    "        all_segments = np.array(res[0].masks.xy, dtype=object)[mask_list]\n",
    "\n",
    "    #Calculate number of detected apples\n",
    "    num_detected_apples = len(all_boxes)\n",
    "\n",
    "    #Calculate largest bounding box\n",
    "    max_boundingbox_width = 0;\n",
    "    max_boundingbox_height = 0;\n",
    "\n",
    "    for i in range(len(all_boxes)):\n",
    "        #Width times height\n",
    "        width = all_boxes[i][2]\n",
    "        height = all_boxes[i][3]\n",
    "        if width > max_boundingbox_width:\n",
    "            max_boundingbox_width = width\n",
    "        if height > max_boundingbox_height:\n",
    "            max_boundingbox_height = height\n",
    "\n",
    "    #calculate number of unique segmented pixels\n",
    "    unique = set()\n",
    "    for i in range(len(all_segments)):\n",
    "        for j in range(len(all_segments[i])):\n",
    "            element = (all_segments[i][j][0], all_segments[i][j][1])\n",
    "            unique.add(element)\n",
    "    num_segmented_pixels = len(unique)\n",
    "    \n",
    "    #return all relevant data in a tuple\n",
    "    return (num_detected_apples, round(max_boundingbox_width), round(max_boundingbox_height), num_segmented_pixels)"
   ]
  },
  {
   "cell_type": "code",
   "execution_count": null,
   "id": "148121f4",
   "metadata": {},
   "outputs": [],
   "source": [
    "SVR = pickle.load(\"SVR_Model_FINAL.sav\")"
   ]
  },
  {
   "cell_type": "code",
   "execution_count": null,
   "id": "10d583a5",
   "metadata": {},
   "outputs": [],
   "source": [
    "prediction = SVR.predict(evaluate_picture(\"PATH_TO_PICTURE_HERE\"))"
   ]
  }
 ],
 "metadata": {
  "kernelspec": {
   "display_name": "Python 3 (ipykernel)",
   "language": "python",
   "name": "python3"
  },
  "language_info": {
   "codemirror_mode": {
    "name": "ipython",
    "version": 3
   },
   "file_extension": ".py",
   "mimetype": "text/x-python",
   "name": "python",
   "nbconvert_exporter": "python",
   "pygments_lexer": "ipython3",
   "version": "3.9.16"
  }
 },
 "nbformat": 4,
 "nbformat_minor": 5
}
