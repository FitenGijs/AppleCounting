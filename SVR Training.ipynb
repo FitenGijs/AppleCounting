{
 "cells": [
  {
   "cell_type": "code",
   "execution_count": null,
   "id": "baf00f1d",
   "metadata": {},
   "outputs": [],
   "source": [
    "#imports\n",
    "import pandas as pd\n",
    "import numpy as np\n",
    "import pickle\n",
    "\n",
    "from sklearn.svm import SVR\n",
    "from sklearn.preprocessing import MinMaxScaler\n",
    "from sklearn.feature_selection import r_regression"
   ]
  },
  {
   "cell_type": "code",
   "execution_count": null,
   "id": "130d8c69",
   "metadata": {},
   "outputs": [],
   "source": [
    "#settings for SVR and validation set\n",
    "p = 0.15\n",
    "epsilon = 0.4\n",
    "C = 500\n",
    "degree = 12"
   ]
  },
  {
   "cell_type": "code",
   "execution_count": null,
   "id": "8016ee11",
   "metadata": {},
   "outputs": [],
   "source": [
    "#labeling for pandas and importing the training data\n",
    "columnNames = ['num_apples_detected','max_boundingbox_width','max_boundingbox_height','num_pixels_segmented', 'expected_num_apples_detected']\n",
    "df = pd.DataFrame(np.load(\"Segmentation_results_FINAL.npy\"),columns = columnNames)"
   ]
  },
  {
   "cell_type": "code",
   "execution_count": null,
   "id": "b419fc1a",
   "metadata": {},
   "outputs": [],
   "source": [
    "#Create random validation subset\n",
    "Random_Filter = np.random.choice(a=[False, True], size=(df.shape[0]), p=[p, 1-p])\n",
    "\n",
    "v_df = df[np.logical_not(Random_Filter)]\n",
    "t_df = df[Random_Filter]"
   ]
  },
  {
   "cell_type": "code",
   "execution_count": null,
   "id": "5de11bb5",
   "metadata": {},
   "outputs": [],
   "source": [
    "#split up the data to validation (v) and training (t) sets, each with in and output\n",
    "v_input_df = v_df[['num_apples_detected', 'max_boundingbox_width','max_boundingbox_height','num_pixels_segmented']]\n",
    "v_output_df = v_df[['expected_num_apples_detected']].to_numpy()\n",
    "t_input_df = t_df[['num_apples_detected', 'max_boundingbox_width','max_boundingbox_height','num_pixels_segmented']]\n",
    "t_output_df = t_df[['expected_num_apples_detected']].to_numpy()"
   ]
  },
  {
   "cell_type": "code",
   "execution_count": null,
   "id": "6711556a",
   "metadata": {},
   "outputs": [],
   "source": [
    "#train the model\n",
    "SVR_Model = SVR(kernel='rbf', C=C, epsilon=epsilon, degree=degree)\n",
    "SVR_Model.fit(t_input_df, t_output_df.ravel())\n",
    "\n",
    "pickle.dump(SVR_Model, open(\"SVR_Model.sav\", 'wb'))"
   ]
  },
  {
   "cell_type": "markdown",
   "id": "b5c8c7c4",
   "metadata": {},
   "source": [
    "Evaluate the fitted model afterwards"
   ]
  }
 ],
 "metadata": {
  "kernelspec": {
   "display_name": "Python 3 (ipykernel)",
   "language": "python",
   "name": "python3"
  },
  "language_info": {
   "codemirror_mode": {
    "name": "ipython",
    "version": 3
   },
   "file_extension": ".py",
   "mimetype": "text/x-python",
   "name": "python",
   "nbconvert_exporter": "python",
   "pygments_lexer": "ipython3",
   "version": "3.9.16"
  }
 },
 "nbformat": 4,
 "nbformat_minor": 5
}
